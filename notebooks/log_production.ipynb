{
 "cells": [
  {
   "cell_type": "code",
   "execution_count": 1,
   "metadata": {},
   "outputs": [
    {
     "data": {
      "text/plain": [
       "'c:\\\\Users\\\\44787\\\\Desktop\\\\Lung-Infection\\\\notebooks'"
      ]
     },
     "execution_count": 1,
     "metadata": {},
     "output_type": "execute_result"
    }
   ],
   "source": [
    "%pwd"
   ]
  },
  {
   "cell_type": "code",
   "execution_count": 2,
   "id": "12946b90",
   "metadata": {},
   "outputs": [
    {
     "data": {
      "text/plain": [
       "'c:\\\\Users\\\\44787\\\\Desktop\\\\Lung-Infection'"
      ]
     },
     "execution_count": 2,
     "metadata": {},
     "output_type": "execute_result"
    }
   ],
   "source": [
    "import os \n",
    "\n",
    "\n",
    "os.chdir('../')\n",
    "%pwd"
   ]
  },
  {
   "cell_type": "code",
   "execution_count": 3,
   "id": "15fcc14f",
   "metadata": {},
   "outputs": [],
   "source": [
    "import mlflow\n",
    "from mlflow.tracking import MlflowClient\n",
    "from pprint import pprint\n",
    "import joblib\n",
    "\n",
    "\n",
    "import warnings\n",
    "warnings.filterwarnings(\"ignore\")"
   ]
  },
  {
   "cell_type": "code",
   "execution_count": 26,
   "id": "6e6c2c57",
   "metadata": {},
   "outputs": [
    {
     "data": {
      "text/html": [
       "<div>\n",
       "<style scoped>\n",
       "    .dataframe tbody tr th:only-of-type {\n",
       "        vertical-align: middle;\n",
       "    }\n",
       "\n",
       "    .dataframe tbody tr th {\n",
       "        vertical-align: top;\n",
       "    }\n",
       "\n",
       "    .dataframe thead th {\n",
       "        text-align: right;\n",
       "    }\n",
       "</style>\n",
       "<table border=\"1\" class=\"dataframe\">\n",
       "  <thead>\n",
       "    <tr style=\"text-align: right;\">\n",
       "      <th></th>\n",
       "      <th>run_id</th>\n",
       "      <th>experiment_id</th>\n",
       "      <th>status</th>\n",
       "      <th>artifact_uri</th>\n",
       "      <th>start_time</th>\n",
       "      <th>end_time</th>\n",
       "      <th>metrics.validation_loss</th>\n",
       "      <th>metrics.val_accuracy</th>\n",
       "      <th>metrics.Evaluation Accuracy</th>\n",
       "      <th>metrics.val_loss</th>\n",
       "      <th>...</th>\n",
       "      <th>params.validation_freq</th>\n",
       "      <th>params.opt_weight_decay</th>\n",
       "      <th>params.opt_gradient_accumulation_steps</th>\n",
       "      <th>tags.mlflow.source.name</th>\n",
       "      <th>tags.mlflow.source.git.commit</th>\n",
       "      <th>tags.mlflow.source.type</th>\n",
       "      <th>tags.mlflow.latest_checkpoint_artifact</th>\n",
       "      <th>tags.mlflow.user</th>\n",
       "      <th>tags.mlflow.runName</th>\n",
       "      <th>tags.mlflow.log-model.history</th>\n",
       "    </tr>\n",
       "  </thead>\n",
       "  <tbody>\n",
       "    <tr>\n",
       "      <th>0</th>\n",
       "      <td>17f48c61db08418db3f78bf59100fc5f</td>\n",
       "      <td>1</td>\n",
       "      <td>FINISHED</td>\n",
       "      <td>file:///C:/Users/44787/Desktop/Lung-Infection/...</td>\n",
       "      <td>2024-06-12 20:00:21.367000+00:00</td>\n",
       "      <td>2024-06-12 20:08:52.788000+00:00</td>\n",
       "      <td>0.490341</td>\n",
       "      <td>0.755</td>\n",
       "      <td>0.755</td>\n",
       "      <td>0.490341</td>\n",
       "      <td>...</td>\n",
       "      <td>1</td>\n",
       "      <td>None</td>\n",
       "      <td>None</td>\n",
       "      <td>.\\src\\pipeline\\stage_02_training_and_evaluatio...</td>\n",
       "      <td>29310121b2be6cb9beafe2e6222005efd828ab6e</td>\n",
       "      <td>LOCAL</td>\n",
       "      <td>checkpoints/latest_checkpoint.h5</td>\n",
       "      <td>44787</td>\n",
       "      <td>Lung Infection Experiments</td>\n",
       "      <td>[{\"run_id\": \"17f48c61db08418db3f78bf59100fc5f\"...</td>\n",
       "    </tr>\n",
       "    <tr>\n",
       "      <th>1</th>\n",
       "      <td>1d9f4bb3d0fc48f8b416bf70118bbf7c</td>\n",
       "      <td>1</td>\n",
       "      <td>FINISHED</td>\n",
       "      <td>file:///C:/Users/44787/Desktop/Lung-Infection/...</td>\n",
       "      <td>2024-06-12 19:52:56.246000+00:00</td>\n",
       "      <td>2024-06-12 19:56:30.377000+00:00</td>\n",
       "      <td>0.492981</td>\n",
       "      <td>0.785</td>\n",
       "      <td>0.785</td>\n",
       "      <td>0.492981</td>\n",
       "      <td>...</td>\n",
       "      <td>1</td>\n",
       "      <td>None</td>\n",
       "      <td>None</td>\n",
       "      <td>.\\src\\pipeline\\stage_02_training_and_evaluatio...</td>\n",
       "      <td>29310121b2be6cb9beafe2e6222005efd828ab6e</td>\n",
       "      <td>LOCAL</td>\n",
       "      <td>checkpoints/latest_checkpoint.h5</td>\n",
       "      <td>44787</td>\n",
       "      <td>Lung Infection Experiments</td>\n",
       "      <td>[{\"run_id\": \"1d9f4bb3d0fc48f8b416bf70118bbf7c\"...</td>\n",
       "    </tr>\n",
       "    <tr>\n",
       "      <th>2</th>\n",
       "      <td>9df359a63b06434d87d294649c2da024</td>\n",
       "      <td>1</td>\n",
       "      <td>FINISHED</td>\n",
       "      <td>file:///C:/Users/44787/Desktop/Lung-Infection/...</td>\n",
       "      <td>2024-06-12 19:44:27.654000+00:00</td>\n",
       "      <td>2024-06-12 19:46:51.940000+00:00</td>\n",
       "      <td>0.476958</td>\n",
       "      <td>0.775</td>\n",
       "      <td>0.775</td>\n",
       "      <td>0.476958</td>\n",
       "      <td>...</td>\n",
       "      <td>1</td>\n",
       "      <td>None</td>\n",
       "      <td>None</td>\n",
       "      <td>.\\src\\pipeline\\stage_02_training_and_evaluatio...</td>\n",
       "      <td>29310121b2be6cb9beafe2e6222005efd828ab6e</td>\n",
       "      <td>LOCAL</td>\n",
       "      <td>checkpoints/latest_checkpoint.h5</td>\n",
       "      <td>44787</td>\n",
       "      <td>Lung Infection Experiments</td>\n",
       "      <td>[{\"run_id\": \"9df359a63b06434d87d294649c2da024\"...</td>\n",
       "    </tr>\n",
       "  </tbody>\n",
       "</table>\n",
       "<p>3 rows × 46 columns</p>\n",
       "</div>"
      ],
      "text/plain": [
       "                             run_id experiment_id    status  \\\n",
       "0  17f48c61db08418db3f78bf59100fc5f             1  FINISHED   \n",
       "1  1d9f4bb3d0fc48f8b416bf70118bbf7c             1  FINISHED   \n",
       "2  9df359a63b06434d87d294649c2da024             1  FINISHED   \n",
       "\n",
       "                                        artifact_uri  \\\n",
       "0  file:///C:/Users/44787/Desktop/Lung-Infection/...   \n",
       "1  file:///C:/Users/44787/Desktop/Lung-Infection/...   \n",
       "2  file:///C:/Users/44787/Desktop/Lung-Infection/...   \n",
       "\n",
       "                        start_time                         end_time  \\\n",
       "0 2024-06-12 20:00:21.367000+00:00 2024-06-12 20:08:52.788000+00:00   \n",
       "1 2024-06-12 19:52:56.246000+00:00 2024-06-12 19:56:30.377000+00:00   \n",
       "2 2024-06-12 19:44:27.654000+00:00 2024-06-12 19:46:51.940000+00:00   \n",
       "\n",
       "   metrics.validation_loss  metrics.val_accuracy  metrics.Evaluation Accuracy  \\\n",
       "0                 0.490341                 0.755                        0.755   \n",
       "1                 0.492981                 0.785                        0.785   \n",
       "2                 0.476958                 0.775                        0.775   \n",
       "\n",
       "   metrics.val_loss  ...  params.validation_freq  params.opt_weight_decay  \\\n",
       "0          0.490341  ...                       1                     None   \n",
       "1          0.492981  ...                       1                     None   \n",
       "2          0.476958  ...                       1                     None   \n",
       "\n",
       "   params.opt_gradient_accumulation_steps  \\\n",
       "0                                    None   \n",
       "1                                    None   \n",
       "2                                    None   \n",
       "\n",
       "                             tags.mlflow.source.name  \\\n",
       "0  .\\src\\pipeline\\stage_02_training_and_evaluatio...   \n",
       "1  .\\src\\pipeline\\stage_02_training_and_evaluatio...   \n",
       "2  .\\src\\pipeline\\stage_02_training_and_evaluatio...   \n",
       "\n",
       "              tags.mlflow.source.git.commit tags.mlflow.source.type  \\\n",
       "0  29310121b2be6cb9beafe2e6222005efd828ab6e                   LOCAL   \n",
       "1  29310121b2be6cb9beafe2e6222005efd828ab6e                   LOCAL   \n",
       "2  29310121b2be6cb9beafe2e6222005efd828ab6e                   LOCAL   \n",
       "\n",
       "  tags.mlflow.latest_checkpoint_artifact tags.mlflow.user  \\\n",
       "0       checkpoints/latest_checkpoint.h5            44787   \n",
       "1       checkpoints/latest_checkpoint.h5            44787   \n",
       "2       checkpoints/latest_checkpoint.h5            44787   \n",
       "\n",
       "          tags.mlflow.runName  \\\n",
       "0  Lung Infection Experiments   \n",
       "1  Lung Infection Experiments   \n",
       "2  Lung Infection Experiments   \n",
       "\n",
       "                       tags.mlflow.log-model.history  \n",
       "0  [{\"run_id\": \"17f48c61db08418db3f78bf59100fc5f\"...  \n",
       "1  [{\"run_id\": \"1d9f4bb3d0fc48f8b416bf70118bbf7c\"...  \n",
       "2  [{\"run_id\": \"9df359a63b06434d87d294649c2da024\"...  \n",
       "\n",
       "[3 rows x 46 columns]"
      ]
     },
     "execution_count": 26,
     "metadata": {},
     "output_type": "execute_result"
    }
   ],
   "source": [
    "mlflow.set_tracking_uri('http://localhost:2024')\n",
    "\n",
    "runs = mlflow.search_runs(experiment_ids=[1])\n",
    "\n",
    "runs"
   ]
  },
  {
   "cell_type": "code",
   "execution_count": 27,
   "id": "d80330df",
   "metadata": {},
   "outputs": [],
   "source": [
    "# delete the run\n",
    "# mlflow.delete_run('2c185a00f9a74df3bee7bb203d143e34')"
   ]
  },
  {
   "cell_type": "code",
   "execution_count": 28,
   "id": "bddfa6aa",
   "metadata": {},
   "outputs": [
    {
     "data": {
      "text/plain": [
       "0    0.785\n",
       "1    0.775\n",
       "2    0.755\n",
       "Name: metrics.validation_accuracy, dtype: float64"
      ]
     },
     "execution_count": 28,
     "metadata": {},
     "output_type": "execute_result"
    }
   ],
   "source": [
    "runs['metrics.validation_accuracy'].sort_values(ascending=False, ignore_index=True)"
   ]
  },
  {
   "cell_type": "code",
   "execution_count": 29,
   "id": "b4f7557c",
   "metadata": {},
   "outputs": [
    {
     "data": {
      "text/plain": [
       "0.7850000262260437"
      ]
     },
     "execution_count": 29,
     "metadata": {},
     "output_type": "execute_result"
    }
   ],
   "source": [
    "highest = runs[\"metrics.validation_accuracy\"].sort_values(ascending=False, ignore_index=True)[0]\n",
    "highest"
   ]
  },
  {
   "cell_type": "code",
   "execution_count": 30,
   "id": "1b7bda74",
   "metadata": {},
   "outputs": [
    {
     "data": {
      "text/html": [
       "<div>\n",
       "<style scoped>\n",
       "    .dataframe tbody tr th:only-of-type {\n",
       "        vertical-align: middle;\n",
       "    }\n",
       "\n",
       "    .dataframe tbody tr th {\n",
       "        vertical-align: top;\n",
       "    }\n",
       "\n",
       "    .dataframe thead th {\n",
       "        text-align: right;\n",
       "    }\n",
       "</style>\n",
       "<table border=\"1\" class=\"dataframe\">\n",
       "  <thead>\n",
       "    <tr style=\"text-align: right;\">\n",
       "      <th></th>\n",
       "      <th>run_id</th>\n",
       "      <th>experiment_id</th>\n",
       "      <th>status</th>\n",
       "      <th>artifact_uri</th>\n",
       "      <th>start_time</th>\n",
       "      <th>end_time</th>\n",
       "      <th>metrics.validation_loss</th>\n",
       "      <th>metrics.val_accuracy</th>\n",
       "      <th>metrics.Evaluation Accuracy</th>\n",
       "      <th>metrics.val_loss</th>\n",
       "      <th>...</th>\n",
       "      <th>params.validation_freq</th>\n",
       "      <th>params.opt_weight_decay</th>\n",
       "      <th>params.opt_gradient_accumulation_steps</th>\n",
       "      <th>tags.mlflow.source.name</th>\n",
       "      <th>tags.mlflow.source.git.commit</th>\n",
       "      <th>tags.mlflow.source.type</th>\n",
       "      <th>tags.mlflow.latest_checkpoint_artifact</th>\n",
       "      <th>tags.mlflow.user</th>\n",
       "      <th>tags.mlflow.runName</th>\n",
       "      <th>tags.mlflow.log-model.history</th>\n",
       "    </tr>\n",
       "  </thead>\n",
       "  <tbody>\n",
       "    <tr>\n",
       "      <th>1</th>\n",
       "      <td>1d9f4bb3d0fc48f8b416bf70118bbf7c</td>\n",
       "      <td>1</td>\n",
       "      <td>FINISHED</td>\n",
       "      <td>file:///C:/Users/44787/Desktop/Lung-Infection/...</td>\n",
       "      <td>2024-06-12 19:52:56.246000+00:00</td>\n",
       "      <td>2024-06-12 19:56:30.377000+00:00</td>\n",
       "      <td>0.492981</td>\n",
       "      <td>0.785</td>\n",
       "      <td>0.785</td>\n",
       "      <td>0.492981</td>\n",
       "      <td>...</td>\n",
       "      <td>1</td>\n",
       "      <td>None</td>\n",
       "      <td>None</td>\n",
       "      <td>.\\src\\pipeline\\stage_02_training_and_evaluatio...</td>\n",
       "      <td>29310121b2be6cb9beafe2e6222005efd828ab6e</td>\n",
       "      <td>LOCAL</td>\n",
       "      <td>checkpoints/latest_checkpoint.h5</td>\n",
       "      <td>44787</td>\n",
       "      <td>Lung Infection Experiments</td>\n",
       "      <td>[{\"run_id\": \"1d9f4bb3d0fc48f8b416bf70118bbf7c\"...</td>\n",
       "    </tr>\n",
       "  </tbody>\n",
       "</table>\n",
       "<p>1 rows × 46 columns</p>\n",
       "</div>"
      ],
      "text/plain": [
       "                             run_id experiment_id    status  \\\n",
       "1  1d9f4bb3d0fc48f8b416bf70118bbf7c             1  FINISHED   \n",
       "\n",
       "                                        artifact_uri  \\\n",
       "1  file:///C:/Users/44787/Desktop/Lung-Infection/...   \n",
       "\n",
       "                        start_time                         end_time  \\\n",
       "1 2024-06-12 19:52:56.246000+00:00 2024-06-12 19:56:30.377000+00:00   \n",
       "\n",
       "   metrics.validation_loss  metrics.val_accuracy  metrics.Evaluation Accuracy  \\\n",
       "1                 0.492981                 0.785                        0.785   \n",
       "\n",
       "   metrics.val_loss  ...  params.validation_freq  params.opt_weight_decay  \\\n",
       "1          0.492981  ...                       1                     None   \n",
       "\n",
       "   params.opt_gradient_accumulation_steps  \\\n",
       "1                                    None   \n",
       "\n",
       "                             tags.mlflow.source.name  \\\n",
       "1  .\\src\\pipeline\\stage_02_training_and_evaluatio...   \n",
       "\n",
       "              tags.mlflow.source.git.commit tags.mlflow.source.type  \\\n",
       "1  29310121b2be6cb9beafe2e6222005efd828ab6e                   LOCAL   \n",
       "\n",
       "  tags.mlflow.latest_checkpoint_artifact tags.mlflow.user  \\\n",
       "1       checkpoints/latest_checkpoint.h5            44787   \n",
       "\n",
       "          tags.mlflow.runName  \\\n",
       "1  Lung Infection Experiments   \n",
       "\n",
       "                       tags.mlflow.log-model.history  \n",
       "1  [{\"run_id\": \"1d9f4bb3d0fc48f8b416bf70118bbf7c\"...  \n",
       "\n",
       "[1 rows x 46 columns]"
      ]
     },
     "execution_count": 30,
     "metadata": {},
     "output_type": "execute_result"
    }
   ],
   "source": [
    "runs[runs[\"metrics.validation_accuracy\"]==highest]"
   ]
  },
  {
   "cell_type": "code",
   "execution_count": 31,
   "id": "50e87a2c",
   "metadata": {},
   "outputs": [
    {
     "data": {
      "text/plain": [
       "1    1d9f4bb3d0fc48f8b416bf70118bbf7c\n",
       "Name: run_id, dtype: object"
      ]
     },
     "execution_count": 31,
     "metadata": {},
     "output_type": "execute_result"
    }
   ],
   "source": [
    "runs[runs[\"metrics.validation_accuracy\"]==highest]['run_id']"
   ]
  },
  {
   "cell_type": "code",
   "execution_count": 32,
   "id": "17dc8dc7",
   "metadata": {},
   "outputs": [
    {
     "data": {
      "text/plain": [
       "'1d9f4bb3d0fc48f8b416bf70118bbf7c'"
      ]
     },
     "execution_count": 32,
     "metadata": {},
     "output_type": "execute_result"
    }
   ],
   "source": [
    "highest_run_id = runs[runs[\"metrics.validation_accuracy\"]==highest]['run_id']\n",
    "highest_run_id = highest_run_id.reset_index(drop=True)[0]\n",
    "highest_run_id"
   ]
  },
  {
   "cell_type": "code",
   "execution_count": 33,
   "id": "0a7186fd",
   "metadata": {},
   "outputs": [
    {
     "name": "stdout",
     "output_type": "stream",
     "text": [
      "{   'aliases': [],\n",
      "    'creation_timestamp': 1718222190359,\n",
      "    'current_stage': 'None',\n",
      "    'description': '',\n",
      "    'last_updated_timestamp': 1718222190359,\n",
      "    'name': 'EfficientNetV2M',\n",
      "    'run_id': '1d9f4bb3d0fc48f8b416bf70118bbf7c',\n",
      "    'run_link': '',\n",
      "    'source': 'file:///C:/Users/44787/Desktop/Lung-Infection/mlflow_artifacts/1/1d9f4bb3d0fc48f8b416bf70118bbf7c/artifacts/model',\n",
      "    'status': 'READY',\n",
      "    'status_message': '',\n",
      "    'tags': {},\n",
      "    'user_id': '',\n",
      "    'version': '2'}\n"
     ]
    }
   ],
   "source": [
    "model_name = 'EfficientNetV2M'\n",
    "\n",
    "client = MlflowClient()\n",
    "for mv in client.search_model_versions(f\"name='{model_name}'\"):\n",
    "    mv = dict(mv)\n",
    "    # print(mv)\n",
    "\n",
    "    if mv[\"run_id\"] == highest_run_id:\n",
    "        current_version = mv[\"version\"]\n",
    "        logged_model = mv[\"source\"]\n",
    "        pprint(mv, indent=4)"
   ]
  },
  {
   "cell_type": "code",
   "execution_count": 34,
   "id": "50660552",
   "metadata": {},
   "outputs": [
    {
     "name": "stdout",
     "output_type": "stream",
     "text": [
      "{   'aliases': [],\n",
      "    'creation_timestamp': 1718222190359,\n",
      "    'current_stage': 'None',\n",
      "    'description': '',\n",
      "    'last_updated_timestamp': 1718222190359,\n",
      "    'name': 'EfficientNetV2M',\n",
      "    'run_id': '1d9f4bb3d0fc48f8b416bf70118bbf7c',\n",
      "    'run_link': '',\n",
      "    'source': 'file:///C:/Users/44787/Desktop/Lung-Infection/mlflow_artifacts/1/1d9f4bb3d0fc48f8b416bf70118bbf7c/artifacts/model',\n",
      "    'status': 'READY',\n",
      "    'status_message': '',\n",
      "    'tags': {},\n",
      "    'user_id': '',\n",
      "    'version': '2'}\n"
     ]
    }
   ],
   "source": [
    "model_name = 'EfficientNetV2M'\n",
    "\n",
    "client = MlflowClient()\n",
    "for mv in client.search_model_versions(f\"name='{model_name}'\"):\n",
    "    mv = dict(mv)\n",
    "\n",
    "    if mv[\"run_id\"] == highest_run_id:\n",
    "        current_version = mv[\"version\"]\n",
    "        logged_model = mv[\"source\"]\n",
    "        pprint(mv, indent=4)\n",
    "        client.transition_model_version_stage(\n",
    "            name=model_name,\n",
    "            version=current_version,\n",
    "            stage=\"Production\"\n",
    "        )\n",
    "    else:\n",
    "        current_version = mv[\"version\"]\n",
    "        client.transition_model_version_stage(\n",
    "            name=model_name,\n",
    "            version=current_version,\n",
    "            stage=\"Staging\"\n",
    "        )  "
   ]
  },
  {
   "cell_type": "code",
   "execution_count": 37,
   "id": "95254665",
   "metadata": {},
   "outputs": [
    {
     "data": {
      "text/plain": [
       "['artifacts\\\\ModelTrainings\\\\mlflow_model.h5']"
      ]
     },
     "execution_count": 37,
     "metadata": {},
     "output_type": "execute_result"
    }
   ],
   "source": [
    "loaded_model = mlflow.pyfunc.load_model(logged_model)\n",
    "\n",
    "model_path = os.path.join('artifacts\\ModelTrainings\\mlflow_model.h5')\n",
    "joblib.dump(loaded_model, model_path)"
   ]
  },
  {
   "cell_type": "code",
   "execution_count": null,
   "id": "c2f46320",
   "metadata": {},
   "outputs": [],
   "source": []
  }
 ],
 "metadata": {
  "kernelspec": {
   "display_name": "lung-env",
   "language": "python",
   "name": "python3"
  },
  "language_info": {
   "codemirror_mode": {
    "name": "ipython",
    "version": 3
   },
   "file_extension": ".py",
   "mimetype": "text/x-python",
   "name": "python",
   "nbconvert_exporter": "python",
   "pygments_lexer": "ipython3",
   "version": "3.10.14"
  }
 },
 "nbformat": 4,
 "nbformat_minor": 5
}
