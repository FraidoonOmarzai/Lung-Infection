{
 "cells": [
  {
   "cell_type": "code",
   "execution_count": 1,
   "metadata": {},
   "outputs": [
    {
     "data": {
      "text/plain": [
       "'c:\\\\Users\\\\44787\\\\Desktop\\\\Lung-Infection\\\\notebooks'"
      ]
     },
     "execution_count": 1,
     "metadata": {},
     "output_type": "execute_result"
    }
   ],
   "source": [
    "%pwd"
   ]
  },
  {
   "cell_type": "code",
   "execution_count": 2,
   "id": "12946b90",
   "metadata": {},
   "outputs": [
    {
     "data": {
      "text/plain": [
       "'c:\\\\Users\\\\44787\\\\Desktop\\\\Lung-Infection'"
      ]
     },
     "execution_count": 2,
     "metadata": {},
     "output_type": "execute_result"
    }
   ],
   "source": [
    "import os \n",
    "\n",
    "\n",
    "os.chdir('../')\n",
    "%pwd"
   ]
  },
  {
   "cell_type": "code",
   "execution_count": 3,
   "id": "15fcc14f",
   "metadata": {},
   "outputs": [],
   "source": [
    "import mlflow\n",
    "from mlflow.tracking import MlflowClient\n",
    "from pprint import pprint\n",
    "import joblib\n",
    "\n",
    "\n",
    "import warnings\n",
    "warnings.filterwarnings(\"ignore\")"
   ]
  },
  {
   "cell_type": "code",
   "execution_count": 18,
   "id": "6e6c2c57",
   "metadata": {},
   "outputs": [
    {
     "data": {
      "text/html": [
       "<div>\n",
       "<style scoped>\n",
       "    .dataframe tbody tr th:only-of-type {\n",
       "        vertical-align: middle;\n",
       "    }\n",
       "\n",
       "    .dataframe tbody tr th {\n",
       "        vertical-align: top;\n",
       "    }\n",
       "\n",
       "    .dataframe thead th {\n",
       "        text-align: right;\n",
       "    }\n",
       "</style>\n",
       "<table border=\"1\" class=\"dataframe\">\n",
       "  <thead>\n",
       "    <tr style=\"text-align: right;\">\n",
       "      <th></th>\n",
       "      <th>run_id</th>\n",
       "      <th>experiment_id</th>\n",
       "      <th>status</th>\n",
       "      <th>artifact_uri</th>\n",
       "      <th>start_time</th>\n",
       "      <th>end_time</th>\n",
       "      <th>metrics.accuracy</th>\n",
       "      <th>metrics.loss</th>\n",
       "      <th>metrics.validation_accuracy</th>\n",
       "      <th>metrics.validation_loss</th>\n",
       "      <th>...</th>\n",
       "      <th>params.validation_batch_size</th>\n",
       "      <th>params.initial_epoch</th>\n",
       "      <th>tags.mlflow.parentRunId</th>\n",
       "      <th>tags.mlflow.source.type</th>\n",
       "      <th>tags.mlflow.source.name</th>\n",
       "      <th>tags.mlflow.runName</th>\n",
       "      <th>tags.mlflow.source.git.commit</th>\n",
       "      <th>tags.mlflow.user</th>\n",
       "      <th>tags.mlflow.latest_checkpoint_artifact</th>\n",
       "      <th>tags.mlflow.log-model.history</th>\n",
       "    </tr>\n",
       "  </thead>\n",
       "  <tbody>\n",
       "    <tr>\n",
       "      <th>0</th>\n",
       "      <td>8b74f21ceed346a09f24279831932fcb</td>\n",
       "      <td>2</td>\n",
       "      <td>FINISHED</td>\n",
       "      <td>file:///C:/Users/44787/Desktop/Lung-Infection/...</td>\n",
       "      <td>2024-06-17 21:20:58.366000+00:00</td>\n",
       "      <td>2024-06-17 21:20:58.427000+00:00</td>\n",
       "      <td>NaN</td>\n",
       "      <td>NaN</td>\n",
       "      <td>NaN</td>\n",
       "      <td>NaN</td>\n",
       "      <td>...</td>\n",
       "      <td>None</td>\n",
       "      <td>None</td>\n",
       "      <td>fc16f462890b4c1fbdbf54389db888ed</td>\n",
       "      <td>LOCAL</td>\n",
       "      <td>.\\src\\pipeline\\stage_02_training_and_evaluatio...</td>\n",
       "      <td>dapper-rat-343</td>\n",
       "      <td>2f116376a67f179c0565e3dadf9f8fa26152bfda</td>\n",
       "      <td>44787</td>\n",
       "      <td>None</td>\n",
       "      <td>None</td>\n",
       "    </tr>\n",
       "    <tr>\n",
       "      <th>1</th>\n",
       "      <td>ea1049602e8e40088e5a078c96312c89</td>\n",
       "      <td>2</td>\n",
       "      <td>FINISHED</td>\n",
       "      <td>file:///C:/Users/44787/Desktop/Lung-Infection/...</td>\n",
       "      <td>2024-06-17 21:20:58.261000+00:00</td>\n",
       "      <td>2024-06-17 21:20:58.326000+00:00</td>\n",
       "      <td>NaN</td>\n",
       "      <td>NaN</td>\n",
       "      <td>NaN</td>\n",
       "      <td>NaN</td>\n",
       "      <td>...</td>\n",
       "      <td>None</td>\n",
       "      <td>None</td>\n",
       "      <td>fc16f462890b4c1fbdbf54389db888ed</td>\n",
       "      <td>LOCAL</td>\n",
       "      <td>.\\src\\pipeline\\stage_02_training_and_evaluatio...</td>\n",
       "      <td>debonair-lynx-41</td>\n",
       "      <td>2f116376a67f179c0565e3dadf9f8fa26152bfda</td>\n",
       "      <td>44787</td>\n",
       "      <td>None</td>\n",
       "      <td>None</td>\n",
       "    </tr>\n",
       "    <tr>\n",
       "      <th>2</th>\n",
       "      <td>fc16f462890b4c1fbdbf54389db888ed</td>\n",
       "      <td>2</td>\n",
       "      <td>FINISHED</td>\n",
       "      <td>file:///C:/Users/44787/Desktop/Lung-Infection/...</td>\n",
       "      <td>2024-06-17 21:19:26.138000+00:00</td>\n",
       "      <td>2024-06-17 21:21:14.578000+00:00</td>\n",
       "      <td>0.7425</td>\n",
       "      <td>0.522543</td>\n",
       "      <td>0.760</td>\n",
       "      <td>0.504978</td>\n",
       "      <td>...</td>\n",
       "      <td>None</td>\n",
       "      <td>0</td>\n",
       "      <td>None</td>\n",
       "      <td>LOCAL</td>\n",
       "      <td>.\\src\\pipeline\\stage_02_training_and_evaluatio...</td>\n",
       "      <td>Transfer_learning_Model</td>\n",
       "      <td>2f116376a67f179c0565e3dadf9f8fa26152bfda</td>\n",
       "      <td>44787</td>\n",
       "      <td>checkpoints/latest_checkpoint.h5</td>\n",
       "      <td>[{\"run_id\": \"fc16f462890b4c1fbdbf54389db888ed\"...</td>\n",
       "    </tr>\n",
       "    <tr>\n",
       "      <th>3</th>\n",
       "      <td>b355e473d0df465495602f3efb598b4d</td>\n",
       "      <td>2</td>\n",
       "      <td>FINISHED</td>\n",
       "      <td>file:///C:/Users/44787/Desktop/Lung-Infection/...</td>\n",
       "      <td>2024-06-16 22:11:04.611000+00:00</td>\n",
       "      <td>2024-06-16 22:11:04.676000+00:00</td>\n",
       "      <td>NaN</td>\n",
       "      <td>NaN</td>\n",
       "      <td>NaN</td>\n",
       "      <td>NaN</td>\n",
       "      <td>...</td>\n",
       "      <td>None</td>\n",
       "      <td>None</td>\n",
       "      <td>7d85fb424e174c4c97145a33fc4a5f52</td>\n",
       "      <td>LOCAL</td>\n",
       "      <td>src\\pipeline\\stage_02_training_and_evaluation.py</td>\n",
       "      <td>intelligent-bug-645</td>\n",
       "      <td>8872ff046b51a522835e241f9641ba4d9b608158</td>\n",
       "      <td>44787</td>\n",
       "      <td>None</td>\n",
       "      <td>None</td>\n",
       "    </tr>\n",
       "    <tr>\n",
       "      <th>4</th>\n",
       "      <td>1061a9b6d6024d40a5df046567212498</td>\n",
       "      <td>2</td>\n",
       "      <td>FINISHED</td>\n",
       "      <td>file:///C:/Users/44787/Desktop/Lung-Infection/...</td>\n",
       "      <td>2024-06-16 22:11:04.482000+00:00</td>\n",
       "      <td>2024-06-16 22:11:04.567000+00:00</td>\n",
       "      <td>NaN</td>\n",
       "      <td>NaN</td>\n",
       "      <td>NaN</td>\n",
       "      <td>NaN</td>\n",
       "      <td>...</td>\n",
       "      <td>None</td>\n",
       "      <td>None</td>\n",
       "      <td>7d85fb424e174c4c97145a33fc4a5f52</td>\n",
       "      <td>LOCAL</td>\n",
       "      <td>src\\pipeline\\stage_02_training_and_evaluation.py</td>\n",
       "      <td>dapper-moose-433</td>\n",
       "      <td>8872ff046b51a522835e241f9641ba4d9b608158</td>\n",
       "      <td>44787</td>\n",
       "      <td>None</td>\n",
       "      <td>None</td>\n",
       "    </tr>\n",
       "    <tr>\n",
       "      <th>5</th>\n",
       "      <td>7d85fb424e174c4c97145a33fc4a5f52</td>\n",
       "      <td>2</td>\n",
       "      <td>FINISHED</td>\n",
       "      <td>file:///C:/Users/44787/Desktop/Lung-Infection/...</td>\n",
       "      <td>2024-06-16 22:08:52.813000+00:00</td>\n",
       "      <td>2024-06-16 22:11:22.642000+00:00</td>\n",
       "      <td>0.7450</td>\n",
       "      <td>0.492822</td>\n",
       "      <td>0.775</td>\n",
       "      <td>0.492686</td>\n",
       "      <td>...</td>\n",
       "      <td>None</td>\n",
       "      <td>0</td>\n",
       "      <td>None</td>\n",
       "      <td>LOCAL</td>\n",
       "      <td>src\\pipeline\\stage_02_training_and_evaluation.py</td>\n",
       "      <td>Transfer_learning_Model</td>\n",
       "      <td>8872ff046b51a522835e241f9641ba4d9b608158</td>\n",
       "      <td>44787</td>\n",
       "      <td>checkpoints/latest_checkpoint.h5</td>\n",
       "      <td>[{\"run_id\": \"7d85fb424e174c4c97145a33fc4a5f52\"...</td>\n",
       "    </tr>\n",
       "  </tbody>\n",
       "</table>\n",
       "<p>6 rows × 48 columns</p>\n",
       "</div>"
      ],
      "text/plain": [
       "                             run_id experiment_id    status  \\\n",
       "0  8b74f21ceed346a09f24279831932fcb             2  FINISHED   \n",
       "1  ea1049602e8e40088e5a078c96312c89             2  FINISHED   \n",
       "2  fc16f462890b4c1fbdbf54389db888ed             2  FINISHED   \n",
       "3  b355e473d0df465495602f3efb598b4d             2  FINISHED   \n",
       "4  1061a9b6d6024d40a5df046567212498             2  FINISHED   \n",
       "5  7d85fb424e174c4c97145a33fc4a5f52             2  FINISHED   \n",
       "\n",
       "                                        artifact_uri  \\\n",
       "0  file:///C:/Users/44787/Desktop/Lung-Infection/...   \n",
       "1  file:///C:/Users/44787/Desktop/Lung-Infection/...   \n",
       "2  file:///C:/Users/44787/Desktop/Lung-Infection/...   \n",
       "3  file:///C:/Users/44787/Desktop/Lung-Infection/...   \n",
       "4  file:///C:/Users/44787/Desktop/Lung-Infection/...   \n",
       "5  file:///C:/Users/44787/Desktop/Lung-Infection/...   \n",
       "\n",
       "                        start_time                         end_time  \\\n",
       "0 2024-06-17 21:20:58.366000+00:00 2024-06-17 21:20:58.427000+00:00   \n",
       "1 2024-06-17 21:20:58.261000+00:00 2024-06-17 21:20:58.326000+00:00   \n",
       "2 2024-06-17 21:19:26.138000+00:00 2024-06-17 21:21:14.578000+00:00   \n",
       "3 2024-06-16 22:11:04.611000+00:00 2024-06-16 22:11:04.676000+00:00   \n",
       "4 2024-06-16 22:11:04.482000+00:00 2024-06-16 22:11:04.567000+00:00   \n",
       "5 2024-06-16 22:08:52.813000+00:00 2024-06-16 22:11:22.642000+00:00   \n",
       "\n",
       "   metrics.accuracy  metrics.loss  metrics.validation_accuracy  \\\n",
       "0               NaN           NaN                          NaN   \n",
       "1               NaN           NaN                          NaN   \n",
       "2            0.7425      0.522543                        0.760   \n",
       "3               NaN           NaN                          NaN   \n",
       "4               NaN           NaN                          NaN   \n",
       "5            0.7450      0.492822                        0.775   \n",
       "\n",
       "   metrics.validation_loss  ...  params.validation_batch_size  \\\n",
       "0                      NaN  ...                          None   \n",
       "1                      NaN  ...                          None   \n",
       "2                 0.504978  ...                          None   \n",
       "3                      NaN  ...                          None   \n",
       "4                      NaN  ...                          None   \n",
       "5                 0.492686  ...                          None   \n",
       "\n",
       "   params.initial_epoch           tags.mlflow.parentRunId  \\\n",
       "0                  None  fc16f462890b4c1fbdbf54389db888ed   \n",
       "1                  None  fc16f462890b4c1fbdbf54389db888ed   \n",
       "2                     0                              None   \n",
       "3                  None  7d85fb424e174c4c97145a33fc4a5f52   \n",
       "4                  None  7d85fb424e174c4c97145a33fc4a5f52   \n",
       "5                     0                              None   \n",
       "\n",
       "  tags.mlflow.source.type                            tags.mlflow.source.name  \\\n",
       "0                   LOCAL  .\\src\\pipeline\\stage_02_training_and_evaluatio...   \n",
       "1                   LOCAL  .\\src\\pipeline\\stage_02_training_and_evaluatio...   \n",
       "2                   LOCAL  .\\src\\pipeline\\stage_02_training_and_evaluatio...   \n",
       "3                   LOCAL   src\\pipeline\\stage_02_training_and_evaluation.py   \n",
       "4                   LOCAL   src\\pipeline\\stage_02_training_and_evaluation.py   \n",
       "5                   LOCAL   src\\pipeline\\stage_02_training_and_evaluation.py   \n",
       "\n",
       "       tags.mlflow.runName             tags.mlflow.source.git.commit  \\\n",
       "0           dapper-rat-343  2f116376a67f179c0565e3dadf9f8fa26152bfda   \n",
       "1         debonair-lynx-41  2f116376a67f179c0565e3dadf9f8fa26152bfda   \n",
       "2  Transfer_learning_Model  2f116376a67f179c0565e3dadf9f8fa26152bfda   \n",
       "3      intelligent-bug-645  8872ff046b51a522835e241f9641ba4d9b608158   \n",
       "4         dapper-moose-433  8872ff046b51a522835e241f9641ba4d9b608158   \n",
       "5  Transfer_learning_Model  8872ff046b51a522835e241f9641ba4d9b608158   \n",
       "\n",
       "  tags.mlflow.user tags.mlflow.latest_checkpoint_artifact  \\\n",
       "0            44787                                   None   \n",
       "1            44787                                   None   \n",
       "2            44787       checkpoints/latest_checkpoint.h5   \n",
       "3            44787                                   None   \n",
       "4            44787                                   None   \n",
       "5            44787       checkpoints/latest_checkpoint.h5   \n",
       "\n",
       "                       tags.mlflow.log-model.history  \n",
       "0                                               None  \n",
       "1                                               None  \n",
       "2  [{\"run_id\": \"fc16f462890b4c1fbdbf54389db888ed\"...  \n",
       "3                                               None  \n",
       "4                                               None  \n",
       "5  [{\"run_id\": \"7d85fb424e174c4c97145a33fc4a5f52\"...  \n",
       "\n",
       "[6 rows x 48 columns]"
      ]
     },
     "execution_count": 18,
     "metadata": {},
     "output_type": "execute_result"
    }
   ],
   "source": [
    "mlflow.set_tracking_uri('http://localhost:2024')\n",
    "\n",
    "runs = mlflow.search_runs(experiment_ids=[2])\n",
    "\n",
    "runs"
   ]
  },
  {
   "cell_type": "code",
   "execution_count": 19,
   "id": "d80330df",
   "metadata": {},
   "outputs": [],
   "source": [
    "# delete the run\n",
    "# mlflow.delete_run('2c185a00f9a74df3bee7bb203d143e34')"
   ]
  },
  {
   "cell_type": "code",
   "execution_count": 20,
   "id": "bddfa6aa",
   "metadata": {},
   "outputs": [
    {
     "data": {
      "text/plain": [
       "0    0.775\n",
       "1    0.760\n",
       "2      NaN\n",
       "3      NaN\n",
       "4      NaN\n",
       "5      NaN\n",
       "Name: metrics.validation_accuracy, dtype: float64"
      ]
     },
     "execution_count": 20,
     "metadata": {},
     "output_type": "execute_result"
    }
   ],
   "source": [
    "runs['metrics.validation_accuracy'].sort_values(ascending=False, ignore_index=True)"
   ]
  },
  {
   "cell_type": "code",
   "execution_count": 21,
   "id": "b4f7557c",
   "metadata": {},
   "outputs": [
    {
     "data": {
      "text/plain": [
       "0.7749999761581421"
      ]
     },
     "execution_count": 21,
     "metadata": {},
     "output_type": "execute_result"
    }
   ],
   "source": [
    "highest = runs[\"metrics.validation_accuracy\"].sort_values(ascending=False, ignore_index=True)[0]\n",
    "highest"
   ]
  },
  {
   "cell_type": "code",
   "execution_count": 22,
   "id": "1b7bda74",
   "metadata": {},
   "outputs": [
    {
     "data": {
      "text/html": [
       "<div>\n",
       "<style scoped>\n",
       "    .dataframe tbody tr th:only-of-type {\n",
       "        vertical-align: middle;\n",
       "    }\n",
       "\n",
       "    .dataframe tbody tr th {\n",
       "        vertical-align: top;\n",
       "    }\n",
       "\n",
       "    .dataframe thead th {\n",
       "        text-align: right;\n",
       "    }\n",
       "</style>\n",
       "<table border=\"1\" class=\"dataframe\">\n",
       "  <thead>\n",
       "    <tr style=\"text-align: right;\">\n",
       "      <th></th>\n",
       "      <th>run_id</th>\n",
       "      <th>experiment_id</th>\n",
       "      <th>status</th>\n",
       "      <th>artifact_uri</th>\n",
       "      <th>start_time</th>\n",
       "      <th>end_time</th>\n",
       "      <th>metrics.accuracy</th>\n",
       "      <th>metrics.loss</th>\n",
       "      <th>metrics.validation_accuracy</th>\n",
       "      <th>metrics.validation_loss</th>\n",
       "      <th>...</th>\n",
       "      <th>params.validation_batch_size</th>\n",
       "      <th>params.initial_epoch</th>\n",
       "      <th>tags.mlflow.parentRunId</th>\n",
       "      <th>tags.mlflow.source.type</th>\n",
       "      <th>tags.mlflow.source.name</th>\n",
       "      <th>tags.mlflow.runName</th>\n",
       "      <th>tags.mlflow.source.git.commit</th>\n",
       "      <th>tags.mlflow.user</th>\n",
       "      <th>tags.mlflow.latest_checkpoint_artifact</th>\n",
       "      <th>tags.mlflow.log-model.history</th>\n",
       "    </tr>\n",
       "  </thead>\n",
       "  <tbody>\n",
       "    <tr>\n",
       "      <th>5</th>\n",
       "      <td>7d85fb424e174c4c97145a33fc4a5f52</td>\n",
       "      <td>2</td>\n",
       "      <td>FINISHED</td>\n",
       "      <td>file:///C:/Users/44787/Desktop/Lung-Infection/...</td>\n",
       "      <td>2024-06-16 22:08:52.813000+00:00</td>\n",
       "      <td>2024-06-16 22:11:22.642000+00:00</td>\n",
       "      <td>0.745</td>\n",
       "      <td>0.492822</td>\n",
       "      <td>0.775</td>\n",
       "      <td>0.492686</td>\n",
       "      <td>...</td>\n",
       "      <td>None</td>\n",
       "      <td>0</td>\n",
       "      <td>None</td>\n",
       "      <td>LOCAL</td>\n",
       "      <td>src\\pipeline\\stage_02_training_and_evaluation.py</td>\n",
       "      <td>Transfer_learning_Model</td>\n",
       "      <td>8872ff046b51a522835e241f9641ba4d9b608158</td>\n",
       "      <td>44787</td>\n",
       "      <td>checkpoints/latest_checkpoint.h5</td>\n",
       "      <td>[{\"run_id\": \"7d85fb424e174c4c97145a33fc4a5f52\"...</td>\n",
       "    </tr>\n",
       "  </tbody>\n",
       "</table>\n",
       "<p>1 rows × 48 columns</p>\n",
       "</div>"
      ],
      "text/plain": [
       "                             run_id experiment_id    status  \\\n",
       "5  7d85fb424e174c4c97145a33fc4a5f52             2  FINISHED   \n",
       "\n",
       "                                        artifact_uri  \\\n",
       "5  file:///C:/Users/44787/Desktop/Lung-Infection/...   \n",
       "\n",
       "                        start_time                         end_time  \\\n",
       "5 2024-06-16 22:08:52.813000+00:00 2024-06-16 22:11:22.642000+00:00   \n",
       "\n",
       "   metrics.accuracy  metrics.loss  metrics.validation_accuracy  \\\n",
       "5             0.745      0.492822                        0.775   \n",
       "\n",
       "   metrics.validation_loss  ...  params.validation_batch_size  \\\n",
       "5                 0.492686  ...                          None   \n",
       "\n",
       "   params.initial_epoch  tags.mlflow.parentRunId tags.mlflow.source.type  \\\n",
       "5                     0                     None                   LOCAL   \n",
       "\n",
       "                            tags.mlflow.source.name      tags.mlflow.runName  \\\n",
       "5  src\\pipeline\\stage_02_training_and_evaluation.py  Transfer_learning_Model   \n",
       "\n",
       "              tags.mlflow.source.git.commit tags.mlflow.user  \\\n",
       "5  8872ff046b51a522835e241f9641ba4d9b608158            44787   \n",
       "\n",
       "  tags.mlflow.latest_checkpoint_artifact  \\\n",
       "5       checkpoints/latest_checkpoint.h5   \n",
       "\n",
       "                       tags.mlflow.log-model.history  \n",
       "5  [{\"run_id\": \"7d85fb424e174c4c97145a33fc4a5f52\"...  \n",
       "\n",
       "[1 rows x 48 columns]"
      ]
     },
     "execution_count": 22,
     "metadata": {},
     "output_type": "execute_result"
    }
   ],
   "source": [
    "runs[runs[\"metrics.validation_accuracy\"]==highest]"
   ]
  },
  {
   "cell_type": "code",
   "execution_count": 23,
   "id": "50e87a2c",
   "metadata": {},
   "outputs": [
    {
     "data": {
      "text/plain": [
       "5    7d85fb424e174c4c97145a33fc4a5f52\n",
       "Name: run_id, dtype: object"
      ]
     },
     "execution_count": 23,
     "metadata": {},
     "output_type": "execute_result"
    }
   ],
   "source": [
    "runs[runs[\"metrics.validation_accuracy\"]==highest]['run_id']"
   ]
  },
  {
   "cell_type": "code",
   "execution_count": 24,
   "id": "17dc8dc7",
   "metadata": {},
   "outputs": [
    {
     "data": {
      "text/plain": [
       "'7d85fb424e174c4c97145a33fc4a5f52'"
      ]
     },
     "execution_count": 24,
     "metadata": {},
     "output_type": "execute_result"
    }
   ],
   "source": [
    "highest_run_id = runs[runs[\"metrics.validation_accuracy\"]==highest]['run_id']\n",
    "highest_run_id = highest_run_id.reset_index(drop=True)[0]\n",
    "highest_run_id"
   ]
  },
  {
   "cell_type": "code",
   "execution_count": 25,
   "id": "0a7186fd",
   "metadata": {},
   "outputs": [
    {
     "name": "stdout",
     "output_type": "stream",
     "text": [
      "{   'aliases': [],\n",
      "    'creation_timestamp': 1718575882607,\n",
      "    'current_stage': 'Staging',\n",
      "    'description': '',\n",
      "    'last_updated_timestamp': 1718830867299,\n",
      "    'name': 'EfficientNet',\n",
      "    'run_id': '7d85fb424e174c4c97145a33fc4a5f52',\n",
      "    'run_link': '',\n",
      "    'source': 'file:///C:/Users/44787/Desktop/Lung-Infection/mlflow_artifacts/2/7d85fb424e174c4c97145a33fc4a5f52/artifacts/model',\n",
      "    'status': 'READY',\n",
      "    'status_message': '',\n",
      "    'tags': {},\n",
      "    'user_id': '',\n",
      "    'version': '1'}\n"
     ]
    }
   ],
   "source": [
    "model_name = 'EfficientNet'\n",
    "\n",
    "client = MlflowClient()\n",
    "for mv in client.search_model_versions(f\"name='{model_name}'\"):\n",
    "    mv = dict(mv)\n",
    "    # print(mv)\n",
    "\n",
    "    if mv[\"run_id\"] == highest_run_id:\n",
    "        current_version = mv[\"version\"]\n",
    "        logged_model = mv[\"source\"]\n",
    "        pprint(mv, indent=4)"
   ]
  },
  {
   "cell_type": "code",
   "execution_count": 26,
   "id": "50660552",
   "metadata": {},
   "outputs": [
    {
     "name": "stdout",
     "output_type": "stream",
     "text": [
      "{   'aliases': [],\n",
      "    'creation_timestamp': 1718575882607,\n",
      "    'current_stage': 'Staging',\n",
      "    'description': '',\n",
      "    'last_updated_timestamp': 1718830867299,\n",
      "    'name': 'EfficientNet',\n",
      "    'run_id': '7d85fb424e174c4c97145a33fc4a5f52',\n",
      "    'run_link': '',\n",
      "    'source': 'file:///C:/Users/44787/Desktop/Lung-Infection/mlflow_artifacts/2/7d85fb424e174c4c97145a33fc4a5f52/artifacts/model',\n",
      "    'status': 'READY',\n",
      "    'status_message': '',\n",
      "    'tags': {},\n",
      "    'user_id': '',\n",
      "    'version': '1'}\n"
     ]
    }
   ],
   "source": [
    "model_name = 'EfficientNet'\n",
    "\n",
    "client = MlflowClient()\n",
    "for mv in client.search_model_versions(f\"name='{model_name}'\"):\n",
    "    mv = dict(mv)\n",
    "\n",
    "    if mv[\"run_id\"] == highest_run_id:\n",
    "        current_version = mv[\"version\"]\n",
    "        logged_model = mv[\"source\"]\n",
    "        pprint(mv, indent=4)\n",
    "        client.transition_model_version_stage(\n",
    "            name=model_name,\n",
    "            version=current_version,\n",
    "            stage=\"Production\"\n",
    "        )\n",
    "    else:\n",
    "        current_version = mv[\"version\"]\n",
    "        client.transition_model_version_stage(\n",
    "            name=model_name,\n",
    "            version=current_version,\n",
    "            stage=\"Staging\"\n",
    "        )  "
   ]
  },
  {
   "cell_type": "code",
   "execution_count": 27,
   "id": "95254665",
   "metadata": {},
   "outputs": [
    {
     "data": {
      "text/plain": [
       "['artifacts\\\\ModelTrainings\\\\mlflow_model.h5']"
      ]
     },
     "execution_count": 27,
     "metadata": {},
     "output_type": "execute_result"
    }
   ],
   "source": [
    "loaded_model = mlflow.pyfunc.load_model(logged_model)\n",
    "\n",
    "model_path = os.path.join('artifacts\\ModelTrainings\\mlflow_model.h5')\n",
    "joblib.dump(loaded_model, model_path)"
   ]
  },
  {
   "cell_type": "code",
   "execution_count": null,
   "id": "c2f46320",
   "metadata": {},
   "outputs": [],
   "source": []
  }
 ],
 "metadata": {
  "kernelspec": {
   "display_name": "lung-env",
   "language": "python",
   "name": "python3"
  },
  "language_info": {
   "codemirror_mode": {
    "name": "ipython",
    "version": 3
   },
   "file_extension": ".py",
   "mimetype": "text/x-python",
   "name": "python",
   "nbconvert_exporter": "python",
   "pygments_lexer": "ipython3",
   "version": "3.10.14"
  }
 },
 "nbformat": 4,
 "nbformat_minor": 5
}
